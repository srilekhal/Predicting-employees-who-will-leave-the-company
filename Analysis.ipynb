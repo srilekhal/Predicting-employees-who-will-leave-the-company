{
 "cells": [
  {
   "cell_type": "code",
   "execution_count": 275,
   "metadata": {},
   "outputs": [],
   "source": [
    "import pandas as pd\n",
    "import numpy as np \n",
    "from datetime import datetime \n",
    "from scipy import stats\n",
    "import matplotlib.pyplot as plt\n",
    "import statsmodels.api as sm\n",
    "from sklearn import metrics\n",
    "from sklearn import linear_model\n",
    "from statsmodels.stats.outliers_influence import variance_inflation_factor\n",
    "from sklearn.cross_validation import train_test_split\n",
    "from sklearn.model_selection import KFold\n",
    "import xgboost as xgb\n",
    "from sklearn.ensemble import RandomForestClassifier\n",
    "from sklearn.discriminant_analysis import LinearDiscriminantAnalysis\n"
   ]
  },
  {
   "cell_type": "code",
   "execution_count": 2,
   "metadata": {},
   "outputs": [
    {
     "name": "stdout",
     "output_type": "stream",
     "text": [
      "(5000, 12)\n"
     ]
    },
    {
     "data": {
      "text/html": [
       "<div>\n",
       "<style>\n",
       "    .dataframe thead tr:only-child th {\n",
       "        text-align: right;\n",
       "    }\n",
       "\n",
       "    .dataframe thead th {\n",
       "        text-align: left;\n",
       "    }\n",
       "\n",
       "    .dataframe tbody tr th {\n",
       "        vertical-align: top;\n",
       "    }\n",
       "</style>\n",
       "<table border=\"1\" class=\"dataframe\">\n",
       "  <thead>\n",
       "    <tr style=\"text-align: right;\">\n",
       "      <th></th>\n",
       "      <th>workerID</th>\n",
       "      <th>gender</th>\n",
       "      <th>race</th>\n",
       "      <th>department</th>\n",
       "      <th>location</th>\n",
       "      <th>jobType</th>\n",
       "      <th>birth</th>\n",
       "      <th>hired</th>\n",
       "      <th>performance</th>\n",
       "      <th>salary</th>\n",
       "      <th>bonusAmount</th>\n",
       "      <th>voluntaryTermination</th>\n",
       "    </tr>\n",
       "  </thead>\n",
       "  <tbody>\n",
       "    <tr>\n",
       "      <th>0</th>\n",
       "      <td>101</td>\n",
       "      <td>M</td>\n",
       "      <td>Black or African American</td>\n",
       "      <td>IT</td>\n",
       "      <td>Boise</td>\n",
       "      <td>Engineer 4</td>\n",
       "      <td>1989-08-07</td>\n",
       "      <td>2009-01-31</td>\n",
       "      <td>3.0</td>\n",
       "      <td>148300</td>\n",
       "      <td>3300.0</td>\n",
       "      <td>0</td>\n",
       "    </tr>\n",
       "    <tr>\n",
       "      <th>1</th>\n",
       "      <td>144</td>\n",
       "      <td>M</td>\n",
       "      <td>White</td>\n",
       "      <td>Back End</td>\n",
       "      <td>Honolulu</td>\n",
       "      <td>Manager 3</td>\n",
       "      <td>1987-11-23</td>\n",
       "      <td>2011-03-06</td>\n",
       "      <td>2.0</td>\n",
       "      <td>155976</td>\n",
       "      <td>3200.0</td>\n",
       "      <td>0</td>\n",
       "    </tr>\n",
       "    <tr>\n",
       "      <th>2</th>\n",
       "      <td>158</td>\n",
       "      <td>M</td>\n",
       "      <td>White</td>\n",
       "      <td>Back End</td>\n",
       "      <td>Boise</td>\n",
       "      <td>Engineer 2</td>\n",
       "      <td>1997-10-29</td>\n",
       "      <td>2017-04-15</td>\n",
       "      <td>NaN</td>\n",
       "      <td>117592</td>\n",
       "      <td>2600.0</td>\n",
       "      <td>0</td>\n",
       "    </tr>\n",
       "    <tr>\n",
       "      <th>3</th>\n",
       "      <td>197</td>\n",
       "      <td>M</td>\n",
       "      <td>White</td>\n",
       "      <td>R&amp;D</td>\n",
       "      <td>Honolulu</td>\n",
       "      <td>Professional 3</td>\n",
       "      <td>1990-06-22</td>\n",
       "      <td>2013-12-27</td>\n",
       "      <td>4.0</td>\n",
       "      <td>122195</td>\n",
       "      <td>4200.0</td>\n",
       "      <td>0</td>\n",
       "    </tr>\n",
       "    <tr>\n",
       "      <th>4</th>\n",
       "      <td>248</td>\n",
       "      <td>M</td>\n",
       "      <td>Asian</td>\n",
       "      <td>IT</td>\n",
       "      <td>Rome</td>\n",
       "      <td>Professional 3</td>\n",
       "      <td>1983-09-09</td>\n",
       "      <td>2002-10-28</td>\n",
       "      <td>2.0</td>\n",
       "      <td>83449</td>\n",
       "      <td>1100.0</td>\n",
       "      <td>0</td>\n",
       "    </tr>\n",
       "  </tbody>\n",
       "</table>\n",
       "</div>"
      ],
      "text/plain": [
       "   workerID gender                       race department  location  \\\n",
       "0       101      M  Black or African American         IT     Boise   \n",
       "1       144      M                      White   Back End  Honolulu   \n",
       "2       158      M                      White   Back End     Boise   \n",
       "3       197      M                      White        R&D  Honolulu   \n",
       "4       248      M                      Asian         IT      Rome   \n",
       "\n",
       "          jobType      birth      hired  performance  salary  bonusAmount  \\\n",
       "0      Engineer 4 1989-08-07 2009-01-31          3.0  148300       3300.0   \n",
       "1       Manager 3 1987-11-23 2011-03-06          2.0  155976       3200.0   \n",
       "2      Engineer 2 1997-10-29 2017-04-15          NaN  117592       2600.0   \n",
       "3  Professional 3 1990-06-22 2013-12-27          4.0  122195       4200.0   \n",
       "4  Professional 3 1983-09-09 2002-10-28          2.0   83449       1100.0   \n",
       "\n",
       "   voluntaryTermination  \n",
       "0                     0  \n",
       "1                     0  \n",
       "2                     0  \n",
       "3                     0  \n",
       "4                     0  "
      ]
     },
     "execution_count": 2,
     "metadata": {},
     "output_type": "execute_result"
    }
   ],
   "source": [
    "# Loading the data and checking no. of Observations and variables \n",
    "df = pd.read_excel('TurnoverExercise.xlsx')\n",
    "print(df.shape)\n",
    "df.head()"
   ]
  },
  {
   "cell_type": "code",
   "execution_count": 7,
   "metadata": {},
   "outputs": [
    {
     "data": {
      "text/plain": [
       "workerID                         int64\n",
       "gender                          object\n",
       "race                            object\n",
       "department                      object\n",
       "location                        object\n",
       "jobType                         object\n",
       "birth                   datetime64[ns]\n",
       "hired                   datetime64[ns]\n",
       "performance                    float64\n",
       "salary                           int64\n",
       "bonusAmount                    float64\n",
       "voluntaryTermination             int64\n",
       "dtype: object"
      ]
     },
     "execution_count": 7,
     "metadata": {},
     "output_type": "execute_result"
    }
   ],
   "source": [
    "# Checking \n",
    "df.dtypes"
   ]
  },
  {
   "cell_type": "markdown",
   "metadata": {},
   "source": [
    "## PART I: DATA INSPECTION"
   ]
  },
  {
   "cell_type": "markdown",
   "metadata": {},
   "source": [
    "### Q1"
   ]
  },
  {
   "cell_type": "code",
   "execution_count": 3,
   "metadata": {},
   "outputs": [
    {
     "name": "stdout",
     "output_type": "stream",
     "text": [
      "2000-01-01 00:00:00\n",
      "2010-12-29 00:00:00\n",
      "Table size:(2681, 12)\n",
      "Count of Hired Workers from 2000 to 2010:2681\n",
      "Average Salary:$107817.38\n"
     ]
    }
   ],
   "source": [
    "start = datetime.strptime('2000-01-01','%Y-%m-%d' )\n",
    "end = datetime.strptime('2011-01-01','%Y-%m-%d' )\n",
    "q1 = df[(df.hired >= start) & (df.hired < end)]\n",
    "print(min(q1.hired))\n",
    "print(max(q1.hired))\n",
    "print('Table size:'+str(q1.shape))\n",
    "print('Count of Hired Workers from 2000 to 2010:' + str(len(q1.workerID.unique())))\n",
    "print('Average Salary:$'+str(round(np.mean(q1.salary),2)))"
   ]
  },
  {
   "cell_type": "markdown",
   "metadata": {},
   "source": [
    "### Q2"
   ]
  },
  {
   "cell_type": "code",
   "execution_count": 272,
   "metadata": {},
   "outputs": [
    {
     "name": "stdout",
     "output_type": "stream",
     "text": [
      "['Boise' 'Honolulu' 'Rome' 'Singapore' 'Paris' 'Las Vegas' 'Vulcan']\n",
      "Max Age: 118.078028747\n",
      "Min Age: 17.7577002053\n",
      "Quantiles of Age:\n",
      "0.00    17.757700\n",
      "0.25    32.886379\n",
      "0.50    39.709788\n",
      "0.75    46.449008\n",
      "0.90    52.873648\n",
      "0.95    56.799726\n",
      "0.99    69.722108\n",
      "Name: age, dtype: float64\n"
     ]
    },
    {
     "data": {
      "text/html": [
       "<div>\n",
       "<style>\n",
       "    .dataframe thead tr:only-child th {\n",
       "        text-align: right;\n",
       "    }\n",
       "\n",
       "    .dataframe thead th {\n",
       "        text-align: left;\n",
       "    }\n",
       "\n",
       "    .dataframe tbody tr th {\n",
       "        vertical-align: top;\n",
       "    }\n",
       "</style>\n",
       "<table border=\"1\" class=\"dataframe\">\n",
       "  <thead>\n",
       "    <tr style=\"text-align: right;\">\n",
       "      <th></th>\n",
       "      <th>workerID</th>\n",
       "      <th>gender</th>\n",
       "      <th>race</th>\n",
       "      <th>department</th>\n",
       "      <th>location</th>\n",
       "      <th>jobType</th>\n",
       "      <th>birth</th>\n",
       "      <th>hired</th>\n",
       "      <th>performance</th>\n",
       "      <th>salary</th>\n",
       "      <th>bonusAmount</th>\n",
       "      <th>voluntaryTermination</th>\n",
       "      <th>present_date</th>\n",
       "      <th>age</th>\n",
       "      <th>tenure</th>\n",
       "      <th>now_date</th>\n",
       "      <th>age_q2</th>\n",
       "    </tr>\n",
       "  </thead>\n",
       "  <tbody>\n",
       "    <tr>\n",
       "      <th>0</th>\n",
       "      <td>101</td>\n",
       "      <td>M</td>\n",
       "      <td>Black or African American</td>\n",
       "      <td>IT</td>\n",
       "      <td>Boise</td>\n",
       "      <td>Engineer 4</td>\n",
       "      <td>1989-08-07</td>\n",
       "      <td>2009-01-31</td>\n",
       "      <td>3.0</td>\n",
       "      <td>148300</td>\n",
       "      <td>3300.0</td>\n",
       "      <td>0</td>\n",
       "      <td>2018-01-31</td>\n",
       "      <td>28.484600</td>\n",
       "      <td>9.289528</td>\n",
       "      <td>2018-05-17 11:34:51.145032</td>\n",
       "      <td>28.484600</td>\n",
       "    </tr>\n",
       "    <tr>\n",
       "      <th>1</th>\n",
       "      <td>144</td>\n",
       "      <td>M</td>\n",
       "      <td>White</td>\n",
       "      <td>Back End</td>\n",
       "      <td>Honolulu</td>\n",
       "      <td>Manager 3</td>\n",
       "      <td>1987-11-23</td>\n",
       "      <td>2011-03-06</td>\n",
       "      <td>2.0</td>\n",
       "      <td>155976</td>\n",
       "      <td>3200.0</td>\n",
       "      <td>0</td>\n",
       "      <td>2018-01-31</td>\n",
       "      <td>30.190281</td>\n",
       "      <td>7.197810</td>\n",
       "      <td>2018-05-17 11:34:51.145032</td>\n",
       "      <td>30.190281</td>\n",
       "    </tr>\n",
       "    <tr>\n",
       "      <th>2</th>\n",
       "      <td>158</td>\n",
       "      <td>M</td>\n",
       "      <td>White</td>\n",
       "      <td>Back End</td>\n",
       "      <td>Boise</td>\n",
       "      <td>Engineer 2</td>\n",
       "      <td>1997-10-29</td>\n",
       "      <td>2017-04-15</td>\n",
       "      <td>0.0</td>\n",
       "      <td>117592</td>\n",
       "      <td>2600.0</td>\n",
       "      <td>0</td>\n",
       "      <td>2018-01-31</td>\n",
       "      <td>20.257358</td>\n",
       "      <td>1.086927</td>\n",
       "      <td>2018-05-17 11:34:51.145032</td>\n",
       "      <td>20.257358</td>\n",
       "    </tr>\n",
       "    <tr>\n",
       "      <th>3</th>\n",
       "      <td>197</td>\n",
       "      <td>M</td>\n",
       "      <td>White</td>\n",
       "      <td>R&amp;D</td>\n",
       "      <td>Honolulu</td>\n",
       "      <td>Professional 3</td>\n",
       "      <td>1990-06-22</td>\n",
       "      <td>2013-12-27</td>\n",
       "      <td>4.0</td>\n",
       "      <td>122195</td>\n",
       "      <td>4200.0</td>\n",
       "      <td>0</td>\n",
       "      <td>2018-01-31</td>\n",
       "      <td>27.611225</td>\n",
       "      <td>4.386037</td>\n",
       "      <td>2018-05-17 11:34:51.145032</td>\n",
       "      <td>27.611225</td>\n",
       "    </tr>\n",
       "    <tr>\n",
       "      <th>4</th>\n",
       "      <td>248</td>\n",
       "      <td>M</td>\n",
       "      <td>Asian</td>\n",
       "      <td>IT</td>\n",
       "      <td>Rome</td>\n",
       "      <td>Professional 3</td>\n",
       "      <td>1983-09-09</td>\n",
       "      <td>2002-10-28</td>\n",
       "      <td>2.0</td>\n",
       "      <td>83449</td>\n",
       "      <td>1100.0</td>\n",
       "      <td>0</td>\n",
       "      <td>2018-01-31</td>\n",
       "      <td>34.395619</td>\n",
       "      <td>15.550992</td>\n",
       "      <td>2018-05-17 11:34:51.145032</td>\n",
       "      <td>34.395619</td>\n",
       "    </tr>\n",
       "  </tbody>\n",
       "</table>\n",
       "</div>"
      ],
      "text/plain": [
       "   workerID gender                       race department  location  \\\n",
       "0       101      M  Black or African American         IT     Boise   \n",
       "1       144      M                      White   Back End  Honolulu   \n",
       "2       158      M                      White   Back End     Boise   \n",
       "3       197      M                      White        R&D  Honolulu   \n",
       "4       248      M                      Asian         IT      Rome   \n",
       "\n",
       "          jobType      birth      hired  performance  salary  bonusAmount  \\\n",
       "0      Engineer 4 1989-08-07 2009-01-31          3.0  148300       3300.0   \n",
       "1       Manager 3 1987-11-23 2011-03-06          2.0  155976       3200.0   \n",
       "2      Engineer 2 1997-10-29 2017-04-15          0.0  117592       2600.0   \n",
       "3  Professional 3 1990-06-22 2013-12-27          4.0  122195       4200.0   \n",
       "4  Professional 3 1983-09-09 2002-10-28          2.0   83449       1100.0   \n",
       "\n",
       "   voluntaryTermination present_date        age     tenure  \\\n",
       "0                     0   2018-01-31  28.484600   9.289528   \n",
       "1                     0   2018-01-31  30.190281   7.197810   \n",
       "2                     0   2018-01-31  20.257358   1.086927   \n",
       "3                     0   2018-01-31  27.611225   4.386037   \n",
       "4                     0   2018-01-31  34.395619  15.550992   \n",
       "\n",
       "                    now_date     age_q2  \n",
       "0 2018-05-17 11:34:51.145032  28.484600  \n",
       "1 2018-05-17 11:34:51.145032  30.190281  \n",
       "2 2018-05-17 11:34:51.145032  20.257358  \n",
       "3 2018-05-17 11:34:51.145032  27.611225  \n",
       "4 2018-05-17 11:34:51.145032  34.395619  "
      ]
     },
     "execution_count": 272,
     "metadata": {},
     "output_type": "execute_result"
    }
   ],
   "source": [
    "print(df.location.unique())\n",
    "df['present_date'] = datetime.strptime('2018-01-31','%Y-%m-%d' )\n",
    "df['age_q2'] = [(df.loc[i,'present_date'] - df.loc[i,'birth']).days/365.25 for i in range(len(df))]\n",
    "print('Max Age: '+str(max(df.age)))\n",
    "print('Min Age: '+str(min(df.age)))\n",
    "print('Quantiles of Age:')\n",
    "print(df.age.quantile([0,0.25,0.5,0.75,0.90,0.95,0.99]))\n",
    "df.head()"
   ]
  },
  {
   "cell_type": "code",
   "execution_count": 273,
   "metadata": {},
   "outputs": [
    {
     "name": "stdout",
     "output_type": "stream",
     "text": [
      "Table size of Singapore employees :(968, 17)\n",
      "No. of Engineers with age >=40 in Singapore as of January 2018: 72\n",
      "No. of Engineers with age >=40 who are still active in Singapore as of Jan 2018: 66\n"
     ]
    }
   ],
   "source": [
    "q2 = df[df.location == \"Singapore\"]\n",
    "print('Table size of Singapore employees :'+str(q2.shape))\n",
    "q2_age = q2[(q2.age_q2 >= 40) & (q2.jobType.str.contains('Engineer'))]\n",
    "print('No. of Engineers with age >=40 in Singapore as of January 2018: '+str(len(q2_age.workerID)))\n",
    "q2_active = q2_age[q2_age.voluntaryTermination == 0]\n",
    "print('No. of Engineers with age >=40 who are still active in Singapore as of Jan 2018: '+str(len(q2_active.workerID)))"
   ]
  },
  {
   "cell_type": "markdown",
   "metadata": {},
   "source": [
    "### Q3"
   ]
  },
  {
   "cell_type": "code",
   "execution_count": 6,
   "metadata": {},
   "outputs": [
    {
     "name": "stdout",
     "output_type": "stream",
     "text": [
      "65667.57918552036\n",
      "83446.11467116358\n"
     ]
    }
   ],
   "source": [
    "women = df[(df.gender == \"F\") & (df.jobType.str.contains('Technician') )]\n",
    "men = df[(df.gender == \"M\") & (df.jobType.str.contains('Technician') )]\n",
    "women_avg_salary = women.salary.mean()\n",
    "men_avg_salary = men.salary.mean()\n",
    "print(women_avg_salary)\n",
    "print(men_avg_salary)"
   ]
  },
  {
   "cell_type": "code",
   "execution_count": 7,
   "metadata": {},
   "outputs": [
    {
     "data": {
      "text/plain": [
       "Ttest_indResult(statistic=-8.0374615216638272, pvalue=3.2287817378472732e-15)"
      ]
     },
     "execution_count": 7,
     "metadata": {},
     "output_type": "execute_result"
    }
   ],
   "source": [
    "# Independent 2 sample 2-tailed t-test \n",
    "stats.ttest_ind(women.salary,men.salary)"
   ]
  },
  {
   "cell_type": "markdown",
   "metadata": {},
   "source": [
    "#### From independent 2 sample t-test (assuming normality) we see that the difference between the salary of men and women technicians' salary is significant as p-value of the test is << 0.05 , thus rejecting the null hypothesis [ difference = 0]"
   ]
  },
  {
   "cell_type": "markdown",
   "metadata": {},
   "source": [
    "### Q4"
   ]
  },
  {
   "cell_type": "code",
   "execution_count": 8,
   "metadata": {
    "collapsed": true
   },
   "outputs": [],
   "source": [
    "\n",
    "lis = sorted(df.performance.unique())\n",
    "dic={}\n",
    "for i in range(1,len(lis)):\n",
    "    name = \"perf\"+str(i) \n",
    "    dic[name]= df[df.performance == lis[i]]\n",
    "\n",
    "\n",
    "# plt.show()"
   ]
  },
  {
   "cell_type": "code",
   "execution_count": 9,
   "metadata": {},
   "outputs": [
    {
     "data": {
      "text/plain": [
       "3.0    2197\n",
       "4.0    1203\n",
       "2.0     869\n",
       "1.0     312\n",
       "5.0     271\n",
       "Name: performance, dtype: int64"
      ]
     },
     "execution_count": 9,
     "metadata": {},
     "output_type": "execute_result"
    }
   ],
   "source": [
    "# Checking distribution of overall performance\n",
    "df.performance.value_counts()"
   ]
  },
  {
   "cell_type": "code",
   "execution_count": 10,
   "metadata": {},
   "outputs": [
    {
     "data": {
      "text/plain": [
       "Back End      1253\n",
       "Front End     1226\n",
       "R&D            652\n",
       "IT             649\n",
       "HR             530\n",
       "Finance        404\n",
       "Purchasing     286\n",
       "Name: department, dtype: int64"
      ]
     },
     "execution_count": 10,
     "metadata": {},
     "output_type": "execute_result"
    }
   ],
   "source": [
    "df.department.value_counts()"
   ]
  },
  {
   "cell_type": "code",
   "execution_count": 11,
   "metadata": {},
   "outputs": [],
   "source": [
    "df.performance = df.performance.fillna(0)        # Replacing NaN in performance to 0\n",
    "perf = df.groupby(['department','performance']).size()\n",
    "dep = df.groupby('department').size()\n",
    "dist = pd.DataFrame(perf.div(dep)*100)\n",
    "dist.reset_index(inplace = True)\n",
    "dist = dist.rename(columns={0:'Distribution'})"
   ]
  },
  {
   "cell_type": "code",
   "execution_count": 21,
   "metadata": {
    "collapsed": true
   },
   "outputs": [],
   "source": [
    "lis = sorted(df.performance.unique())\n",
    "dic={}\n",
    "for i in range(1,len(lis)):\n",
    "    name = \"perf\"+str(i) \n",
    "    dic[name]= dist[dist.performance == lis[i]]"
   ]
  },
  {
   "cell_type": "code",
   "execution_count": 22,
   "metadata": {},
   "outputs": [
    {
     "data": {
      "image/png": "[encoded data removed]",
      "text/plain": [
       "<matplotlib.figure.Figure at 0x17906d4aef0>"
      ]
     },
     "metadata": {},
     "output_type": "display_data"
    }
   ],
   "source": [
    "dep = list(dic['perf1']['department'])\n",
    "ind = range(len(dep))\n",
    "d1 = np.array(dic['perf1']['Distribution'])\n",
    "d2 = np.array(dic['perf2']['Distribution'])\n",
    "d3 = np.array(dic['perf3']['Distribution'])\n",
    "d4 = np.array(dic['perf4']['Distribution'])\n",
    "d5 = np.array(dic['perf5']['Distribution'])\n",
    "p1 = plt.bar(ind,dic['perf1']['Distribution'],color = 'r')\n",
    "p2 = plt.bar(ind,dic['perf2']['Distribution'],bottom = d1,color = 'b')\n",
    "p3 = plt.bar(ind,dic['perf3']['Distribution'],bottom = d1+d2,color = 'y')\n",
    "p4 = plt.bar(ind,dic['perf4']['Distribution'],bottom = d1+d2+d3,color = 'g')\n",
    "p5 = plt.bar(ind,dic['perf5']['Distribution'],bottom = d1+d2+d3+d4,color = 'm')\n",
    "plt.xticks(ind,dep)\n",
    "plt.xlabel(\"Department\")\n",
    "plt.ylabel(\"Performance Distribution\")\n",
    "plt.legend((p1[0], p2[0], p3[0], p4[0],p5[0]),(lis[1],lis[2],lis[3],lis[4],lis[5]))\n",
    "plt.show()"
   ]
  },
  {
   "cell_type": "markdown",
   "metadata": {},
   "source": [
    "### Q5"
   ]
  },
  {
   "cell_type": "code",
   "execution_count": 23,
   "metadata": {},
   "outputs": [
    {
     "name": "stdout",
     "output_type": "stream",
     "text": [
      "Size of Filtered Table: (1391, 14)\n"
     ]
    },
    {
     "data": {
      "image/png": "[encoded data removed]",
      "text/plain": [
       "<matplotlib.figure.Figure at 0x17906d22828>"
      ]
     },
     "metadata": {},
     "output_type": "display_data"
    },
    {
     "name": "stdout",
     "output_type": "stream",
     "text": [
      "Average bonus Amount by Performance Rating\n"
     ]
    },
    {
     "data": {
      "text/html": [
       "<div>\n",
       "<style>\n",
       "    .dataframe thead tr:only-child th {\n",
       "        text-align: right;\n",
       "    }\n",
       "\n",
       "    .dataframe thead th {\n",
       "        text-align: left;\n",
       "    }\n",
       "\n",
       "    .dataframe tbody tr th {\n",
       "        vertical-align: top;\n",
       "    }\n",
       "</style>\n",
       "<table border=\"1\" class=\"dataframe\">\n",
       "  <thead>\n",
       "    <tr style=\"text-align: right;\">\n",
       "      <th></th>\n",
       "      <th>performance</th>\n",
       "      <th>bonusAmount</th>\n",
       "    </tr>\n",
       "  </thead>\n",
       "  <tbody>\n",
       "    <tr>\n",
       "      <th>0</th>\n",
       "      <td>1.0</td>\n",
       "      <td>478.378378</td>\n",
       "    </tr>\n",
       "    <tr>\n",
       "      <th>1</th>\n",
       "      <td>2.0</td>\n",
       "      <td>1191.666667</td>\n",
       "    </tr>\n",
       "    <tr>\n",
       "      <th>2</th>\n",
       "      <td>3.0</td>\n",
       "      <td>2341.891892</td>\n",
       "    </tr>\n",
       "    <tr>\n",
       "      <th>3</th>\n",
       "      <td>4.0</td>\n",
       "      <td>5114.921466</td>\n",
       "    </tr>\n",
       "    <tr>\n",
       "      <th>4</th>\n",
       "      <td>5.0</td>\n",
       "      <td>10063.333333</td>\n",
       "    </tr>\n",
       "  </tbody>\n",
       "</table>\n",
       "</div>"
      ],
      "text/plain": [
       "   performance   bonusAmount\n",
       "0          1.0    478.378378\n",
       "1          2.0   1191.666667\n",
       "2          3.0   2341.891892\n",
       "3          4.0   5114.921466\n",
       "4          5.0  10063.333333"
      ]
     },
     "execution_count": 23,
     "metadata": {},
     "output_type": "execute_result"
    }
   ],
   "source": [
    "q5 = df[(df.location == \"Boise\") & (df.voluntaryTermination == 0) & (df.bonusAmount > 0) & (df.performance > 0)]\n",
    "print('Size of Filtered Table: '+str(q5.shape))\n",
    "q5_tab = pd.DataFrame(q5.groupby('performance').agg({'bonusAmount':'mean'}))\n",
    "q5_tab.reset_index(inplace = True)\n",
    "#plt.plot(q5_tab.performance,q5_tab.bonusAmount)\n",
    "plt.plot(q5.performance,q5.bonusAmount)\n",
    "plt.xlabel('Performance Rating')\n",
    "plt.ylabel('Bonus Amount')\n",
    "plt.title('Bonus amount by Performance')\n",
    "plt.show()\n",
    "print(\"Average bonus Amount by Performance Rating\")\n",
    "q5_tab"
   ]
  },
  {
   "cell_type": "code",
   "execution_count": 24,
   "metadata": {},
   "outputs": [
    {
     "name": "stdout",
     "output_type": "stream",
     "text": [
      "                            OLS Regression Results                            \n",
      "==============================================================================\n",
      "Dep. Variable:            bonusAmount   R-squared:                       0.537\n",
      "Model:                            OLS   Adj. R-squared:                  0.537\n",
      "Method:                 Least Squares   F-statistic:                     806.8\n",
      "Date:                Thu, 17 May 2018   Prob (F-statistic):          3.08e-233\n",
      "Time:                        07:04:54   Log-Likelihood:                -13431.\n",
      "No. Observations:                1391   AIC:                         2.687e+04\n",
      "Df Residuals:                    1389   BIC:                         2.688e+04\n",
      "Df Model:                           2                                         \n",
      "Covariance Type:            nonrobust                                         \n",
      "===============================================================================\n",
      "                  coef    std err          t      P>|t|      [0.025      0.975]\n",
      "-------------------------------------------------------------------------------\n",
      "performance   144.7919     77.630      1.865      0.062      -7.492     297.076\n",
      "cube_perf      72.5673      5.147     14.098      0.000      62.470      82.665\n",
      "==============================================================================\n",
      "Omnibus:                     1048.838   Durbin-Watson:                   2.001\n",
      "Prob(Omnibus):                  0.000   Jarque-Bera (JB):            27214.894\n",
      "Skew:                           3.251   Prob(JB):                         0.00\n",
      "Kurtosis:                      23.671   Cond. No.                         38.4\n",
      "==============================================================================\n",
      "\n",
      "Warnings:\n",
      "[1] Standard Errors assume that the covariance matrix of the errors is correctly specified.\n"
     ]
    },
    {
     "name": "stderr",
     "output_type": "stream",
     "text": [
      "C:\\Users\\lekha\\Anaconda3\\lib\\site-packages\\ipykernel_launcher.py:1: SettingWithCopyWarning: \n",
      "A value is trying to be set on a copy of a slice from a DataFrame.\n",
      "Try using .loc[row_indexer,col_indexer] = value instead\n",
      "\n",
      "See the caveats in the documentation: http://pandas.pydata.org/pandas-docs/stable/indexing.html#indexing-view-versus-copy\n",
      "  \"\"\"Entry point for launching an IPython kernel.\n"
     ]
    }
   ],
   "source": [
    "q5['cube_perf'] = (q5.performance) ** 3\n",
    "X = q5[['performance','cube_perf']]\n",
    "q5_model = sm.OLS(q5.bonusAmount,X)\n",
    "q5_result = q5_model.fit()\n",
    "print(q5_result.summary())"
   ]
  },
  {
   "cell_type": "code",
   "execution_count": 25,
   "metadata": {},
   "outputs": [
    {
     "name": "stderr",
     "output_type": "stream",
     "text": [
      "C:\\Users\\lekha\\Anaconda3\\lib\\site-packages\\ipykernel_launcher.py:1: SettingWithCopyWarning: \n",
      "A value is trying to be set on a copy of a slice from a DataFrame.\n",
      "Try using .loc[row_indexer,col_indexer] = value instead\n",
      "\n",
      "See the caveats in the documentation: http://pandas.pydata.org/pandas-docs/stable/indexing.html#indexing-view-versus-copy\n",
      "  \"\"\"Entry point for launching an IPython kernel.\n"
     ]
    },
    {
     "data": {
      "image/png": "[encoded data removed]",
      "text/plain": [
       "<matplotlib.figure.Figure at 0x17906d98080>"
      ]
     },
     "metadata": {},
     "output_type": "display_data"
    }
   ],
   "source": [
    "q5['fit_values'] = q5_result.fittedvalues\n",
    "plt.plot(q5.performance,q5.bonusAmount)\n",
    "plt.plot(q5.performance,q5.fit_values)\n",
    "plt.xlabel('Performance Rating')\n",
    "plt.ylabel('Bonus Amount')\n",
    "plt.title('Bonus amount by Performance along with best fit line')\n",
    "plt.show()"
   ]
  },
  {
   "cell_type": "code",
   "execution_count": 26,
   "metadata": {},
   "outputs": [
    {
     "name": "stdout",
     "output_type": "stream",
     "text": [
      "RMSE: 140827.0\n"
     ]
    }
   ],
   "source": [
    "RMSE = np.sqrt(np.sum((q5.fit_values - q5.bonusAmount)**2))\n",
    "print(\"RMSE: \"+str(round(RMSE)))"
   ]
  },
  {
   "cell_type": "markdown",
   "metadata": {},
   "source": [
    "#### Metrics of Fit:\n",
    "#### Adjusted R-Squared - 0.537\n",
    "#### RMSE - 140,827\n",
    "#### BIC - 2.688e+04"
   ]
  },
  {
   "cell_type": "markdown",
   "metadata": {},
   "source": [
    "#### The best fit line had the above metrics and the F-square p-value shows that the performance rating and cubed_performance has a significant effect on the bonus Amount"
   ]
  },
  {
   "cell_type": "markdown",
   "metadata": {},
   "source": [
    "### PART II: MODELING VOLUNTARY TURNOVER"
   ]
  },
  {
   "cell_type": "markdown",
   "metadata": {},
   "source": [
    "### Q1"
   ]
  },
  {
   "cell_type": "code",
   "execution_count": 27,
   "metadata": {
    "collapsed": true
   },
   "outputs": [],
   "source": [
    "df['tenure'] = [(df.loc[i,'present_date'] - df.loc[i,'hired']).days/365.25 for i in range(len(df))]\n"
   ]
  },
  {
   "cell_type": "code",
   "execution_count": 28,
   "metadata": {},
   "outputs": [
    {
     "name": "stdout",
     "output_type": "stream",
     "text": [
      "Max Tenure: 52.0136892539\n",
      "Min Tenure: 0.0602327173169\n",
      "Quantiles of Tenure:\n",
      "0.00     0.060233\n",
      "0.10     4.231075\n",
      "0.20     6.575222\n",
      "0.25     7.588638\n",
      "0.30     8.530322\n",
      "0.50    12.340862\n",
      "0.75    17.631759\n",
      "0.80    19.048323\n",
      "0.90    23.079808\n",
      "0.95    27.171800\n",
      "0.99    34.990171\n",
      "Name: tenure, dtype: float64\n"
     ]
    }
   ],
   "source": [
    "# Analysis of Tenure\n",
    "print('Max Tenure: '+str(max(df.tenure)))\n",
    "print('Min Tenure: '+str(min(df.tenure)))\n",
    "print('Quantiles of Tenure:')\n",
    "print(df.tenure.quantile([0,0.10,0.2,0.25,0.3,0.5,0.75,0.8,0.90,0.95,0.99]))"
   ]
  },
  {
   "cell_type": "code",
   "execution_count": 269,
   "metadata": {},
   "outputs": [
    {
     "name": "stdout",
     "output_type": "stream",
     "text": [
      "Table Size: (4954, 16)\n"
     ]
    }
   ],
   "source": [
    "# Removing employees with Age > 100\n",
    "df['now_date'] = datetime.now()\n",
    "df['age'] = [(df.loc[i,'present_date'] - df.loc[i,'birth']).days/365.25 for i in range(len(df))]\n",
    "q1_2 = df[df.age<100]\n",
    "\n",
    "# Removing Observations with tenure > min tenure and salary = 0\n",
    "q1_2 = df[~((df.tenure > min(df.tenure)) & (df.salary == 0))]\n",
    "\n",
    "print('Table Size: ' + str(q1_2.shape))"
   ]
  },
  {
   "cell_type": "code",
   "execution_count": 30,
   "metadata": {},
   "outputs": [
    {
     "data": {
      "image/png": "[encoded data removed]",
      "text/plain": [
       "<matplotlib.figure.Figure at 0x179068f0438>"
      ]
     },
     "metadata": {},
     "output_type": "display_data"
    }
   ],
   "source": [
    "plt.plot(q1_2.tenure,q1_2.voluntaryTermination,color = 'g')\n",
    "plt.xlabel('Tenure')\n",
    "plt.ylabel('Voluntary Termination')\n",
    "plt.title('Voluntary Termination by Tenure')\n",
    "plt.show()"
   ]
  },
  {
   "cell_type": "code",
   "execution_count": 129,
   "metadata": {},
   "outputs": [
    {
     "name": "stdout",
     "output_type": "stream",
     "text": [
      "                             OLS Regression Results                             \n",
      "================================================================================\n",
      "Dep. Variable:     voluntaryTermination   R-squared:                       0.091\n",
      "Model:                              OLS   Adj. R-squared:                  0.090\n",
      "Method:                   Least Squares   F-statistic:                     247.2\n",
      "Date:                  Thu, 17 May 2018   Prob (F-statistic):          4.72e-103\n",
      "Time:                          09:12:33   Log-Likelihood:                -949.27\n",
      "No. Observations:                  4954   AIC:                             1903.\n",
      "Df Residuals:                      4952   BIC:                             1916.\n",
      "Df Model:                             2                                         \n",
      "Covariance Type:              nonrobust                                         \n",
      "====================================================================================\n",
      "                       coef    std err          t      P>|t|      [0.025      0.975]\n",
      "------------------------------------------------------------------------------------\n",
      "tenure_transform     0.0521      0.005     10.398      0.000       0.042       0.062\n",
      "tenure              -0.0067      0.001     -5.623      0.000      -0.009      -0.004\n",
      "==============================================================================\n",
      "Omnibus:                     2671.891   Durbin-Watson:                   2.042\n",
      "Prob(Omnibus):                  0.000   Jarque-Bera (JB):            12916.323\n",
      "Skew:                           2.762   Prob(JB):                         0.00\n",
      "Kurtosis:                       8.661   Cond. No.                         19.3\n",
      "==============================================================================\n",
      "\n",
      "Warnings:\n",
      "[1] Standard Errors assume that the covariance matrix of the errors is correctly specified.\n"
     ]
    },
    {
     "name": "stderr",
     "output_type": "stream",
     "text": [
      "C:\\Users\\lekha\\Anaconda3\\lib\\site-packages\\ipykernel_launcher.py:1: SettingWithCopyWarning: \n",
      "A value is trying to be set on a copy of a slice from a DataFrame.\n",
      "Try using .loc[row_indexer,col_indexer] = value instead\n",
      "\n",
      "See the caveats in the documentation: http://pandas.pydata.org/pandas-docs/stable/indexing.html#indexing-view-versus-copy\n",
      "  \"\"\"Entry point for launching an IPython kernel.\n"
     ]
    }
   ],
   "source": [
    "q1_2['tenure_transform'] = np.sqrt(q1_2.tenure)\n",
    "X = q1_2[['tenure_transform','tenure']]\n",
    "q1_2_model = sm.OLS(q1_2.voluntaryTermination,X)\n",
    "q1_2_result = q1_2_model.fit()\n",
    "print(q1_2_result.summary())"
   ]
  },
  {
   "cell_type": "markdown",
   "metadata": {},
   "source": [
    "### Fitting Logistic Regression model for the same as the response variable is a flag variable after performing data preparation"
   ]
  },
  {
   "cell_type": "code",
   "execution_count": 88,
   "metadata": {},
   "outputs": [
    {
     "data": {
      "text/plain": [
       "(4954, 16)"
      ]
     },
     "execution_count": 88,
     "metadata": {},
     "output_type": "execute_result"
    }
   ],
   "source": [
    "q1_2.shape"
   ]
  },
  {
   "cell_type": "code",
   "execution_count": 303,
   "metadata": {},
   "outputs": [
    {
     "name": "stdout",
     "output_type": "stream",
     "text": [
      "0.00     0.060233\n",
      "0.25     7.559890\n",
      "0.30     8.508966\n",
      "0.50    12.314853\n",
      "0.75    17.610541\n",
      "0.80    19.014921\n",
      "0.90    23.055715\n",
      "0.95    27.120876\n",
      "0.99    35.010322\n",
      "Name: tenure, dtype: float64\n",
      "0.00     30000.00\n",
      "0.25     69577.75\n",
      "0.30     75299.40\n",
      "0.50     97215.50\n",
      "0.75    134757.25\n",
      "0.80    147288.40\n",
      "0.90    181984.30\n",
      "0.95    218274.45\n",
      "0.99    306980.55\n",
      "Name: salary, dtype: float64\n"
     ]
    }
   ],
   "source": [
    "upsample=q1_2.reset_index()\n",
    "print(upsample.tenure.quantile([0,0.25,0.3,0.5,0.75,0.8,0.90,0.95,0.99]))\n",
    "print(upsample.salary.quantile([0,0.25,0.3,0.5,0.75,0.8,0.90,0.95,0.99]))\n"
   ]
  },
  {
   "cell_type": "code",
   "execution_count": 168,
   "metadata": {},
   "outputs": [],
   "source": [
    "for i in range(len(upsample)):\n",
    "    if upsample.loc[i,'tenure']<=10:\n",
    "        upsample.loc[i,'tenure_bkt'] = 'lte10'\n",
    "    elif (upsample.loc[i,'tenure'] > 10) & (upsample.loc[i,'tenure'] <= 20):\n",
    "        upsample.loc[i,'tenure_bkt'] = 'lte20'\n",
    "    else:\n",
    "        upsample.loc[i,'tenure_bkt'] = 'gt20'"
   ]
  },
  {
   "cell_type": "code",
   "execution_count": 169,
   "metadata": {},
   "outputs": [],
   "source": [
    "for i in range(len(upsample)):\n",
    "    if upsample.loc[i,'salary']<=65000:\n",
    "        upsample.loc[i,'salary_bkt'] = 'lte65K'\n",
    "    elif (upsample.loc[i,'salary'] > 65000) & (upsample.loc[i,'salary'] <= 120000):\n",
    "        upsample.loc[i,'salary_bkt'] = 'lte120K'\n",
    "    else:\n",
    "        upsample.loc[i,'salary_bkt'] = 'gt120K'\n"
   ]
  },
  {
   "cell_type": "code",
   "execution_count": 170,
   "metadata": {
    "collapsed": true
   },
   "outputs": [],
   "source": [
    "# One Hot Encoding\n",
    "categ = upsample[['gender','race','department','location','jobType','tenure_bkt','salary_bkt']]\n",
    "categ = pd.get_dummies(categ)\n",
    "categ = categ[categ.columns.difference(['gender_0','race_0','department_Back End','location_Vulcan','jobType_Technician 5','salary_bkt_gt120K','tenure_bkt_gt20'])]"
   ]
  },
  {
   "cell_type": "code",
   "execution_count": 304,
   "metadata": {},
   "outputs": [],
   "source": [
    "tab = pd.concat([upsample[['workerID','performance','bonusAmount','voluntaryTermination','age','tenure','salary']],categ],axis = 1)\n",
    "\n",
    "#tab = tab.fillna(0)"
   ]
  },
  {
   "cell_type": "code",
   "execution_count": 323,
   "metadata": {},
   "outputs": [
    {
     "data": {
      "text/plain": [
       "0.00    -2126.703173\n",
       "0.25      600.000000\n",
       "0.30      800.000000\n",
       "0.50     1600.000000\n",
       "0.75     3295.292242\n",
       "0.80     4000.000000\n",
       "0.90     6200.000000\n",
       "0.95     9600.000000\n",
       "0.99    20047.000000\n",
       "Name: bonusAmount, dtype: float64"
      ]
     },
     "execution_count": 323,
     "metadata": {},
     "output_type": "execute_result"
    }
   ],
   "source": [
    "# Predicting bonusAmount using Linear Regression\n",
    "te_bonus = tab[tab.bonusAmount.isnull()]\n",
    "tr_bonus = tab[tab.bonusAmount.notnull()]\n",
    "model = linear_model.LinearRegression()\n",
    "#model = sm.OLS()\n",
    "model = model.fit(tr_bonus[tr_bonus.columns.difference(['bonusAmount'])],tr_bonus.bonusAmount)\n",
    "tab.loc[tab.bonusAmount.isnull(),'bonusAmount'] = model.predict(te_bonus[te_bonus.columns.difference(['bonusAmount'])])\n",
    "tab.bonusAmount.quantile([0,0.25,0.3,0.5,0.75,0.8,0.90,0.95,0.99])"
   ]
  },
  {
   "cell_type": "code",
   "execution_count": 188,
   "metadata": {},
   "outputs": [
    {
     "data": {
      "image/png": "[encoded data removed]",
      "text/plain": [
       "<matplotlib.figure.Figure at 0x17908b79748>"
      ]
     },
     "metadata": {},
     "output_type": "display_data"
    },
    {
     "name": "stdout",
     "output_type": "stream",
     "text": [
      "  tenure_bkt  voluntaryTermination       Dist\n",
      "0       gt20                     0  91.169451\n",
      "1       gt20                     1   8.830549\n",
      "2      lte10                     0  90.486486\n",
      "3      lte10                     1   9.513514\n",
      "4      lte20                     0  90.379523\n",
      "5      lte20                     1   9.620477\n"
     ]
    }
   ],
   "source": [
    "group = pd.DataFrame(upsample.groupby(['tenure_bkt','voluntaryTermination']).size())\n",
    "tenure = pd.DataFrame(upsample.groupby('tenure_bkt').size())\n",
    "group = pd.DataFrame(group.div(tenure)*100).reset_index()\n",
    "group = group.rename(columns = {0:'Dist'})\n",
    "term = np.array(group.loc[group.voluntaryTermination == 0,'Dist'])\n",
    "act =  np.array(group.loc[group.voluntaryTermination == 1,'Dist'])\n",
    "index = list(upsample['tenure_bkt'].unique())\n",
    "y_axis = list(upsample['voluntaryTermination'].unique())\n",
    "plot1 = plt.bar(range(len(index)),term,color = 'b')\n",
    "plot2 = plt.bar(range(len(index)),act,color = 'r',bottom = term)\n",
    "plt.xticks(range(len(index)),index)\n",
    "plt.xlabel(\"Tenure\")\n",
    "plt.ylabel(\"Voluntary Termination\")\n",
    "plt.legend((plot1[0], plot2[0]),(y_axis[0],y_axis[1]))\n",
    "plt.show()\n",
    "print(group)"
   ]
  },
  {
   "cell_type": "markdown",
   "metadata": {},
   "source": [
    "#### We see from the graph that the tenure does not have a significant effect on voluntary termination"
   ]
  },
  {
   "cell_type": "code",
   "execution_count": 189,
   "metadata": {},
   "outputs": [
    {
     "data": {
      "text/plain": [
       "0.5"
      ]
     },
     "execution_count": 189,
     "metadata": {},
     "output_type": "execute_result"
    }
   ],
   "source": [
    "tab1 = tab[['tenure_bkt_lte10','tenure_bkt_lte20']]\n",
    "model_q1 = linear_model.LogisticRegression(random_state = 0)\n",
    "model_q1 = model_q1.fit(tab1,tab['voluntaryTermination'])\n",
    "pred_q1 = model_q1.predict(tab1)\n",
    "metrics.roc_auc_score(tab['voluntaryTermination'],pred_q1)"
   ]
  },
  {
   "cell_type": "code",
   "execution_count": 190,
   "metadata": {},
   "outputs": [
    {
     "name": "stdout",
     "output_type": "stream",
     "text": [
      "Optimization terminated successfully.\n",
      "         Current function value: 0.379450\n",
      "         Iterations 6\n",
      "                            Logit Regression Results                            \n",
      "================================================================================\n",
      "Dep. Variable:     voluntaryTermination   No. Observations:                 4954\n",
      "Model:                            Logit   Df Residuals:                     4952\n",
      "Method:                             MLE   Df Model:                            1\n",
      "Date:                  Thu, 17 May 2018   Pseudo R-squ.:                 -0.2132\n",
      "Time:                          10:35:31   Log-Likelihood:                -1879.8\n",
      "converged:                         True   LL-Null:                       -1549.4\n",
      "                                          LLR p-value:                     1.000\n",
      "====================================================================================\n",
      "                       coef    std err          z      P>|z|      [0.025      0.975]\n",
      "------------------------------------------------------------------------------------\n",
      "tenure_bkt_lte10    -2.2525      0.079    -28.426      0.000      -2.408      -2.097\n",
      "tenure_bkt_lte20    -2.2401      0.071    -31.444      0.000      -2.380      -2.100\n",
      "====================================================================================\n"
     ]
    }
   ],
   "source": [
    "# Checking significance\n",
    "logit = sm.Logit(tab['voluntaryTermination'],tab1)\n",
    "result = logit.fit()\n",
    "print(result.summary())"
   ]
  },
  {
   "cell_type": "markdown",
   "metadata": {},
   "source": [
    "#### Though from the p-value (< 0.05), tenure seems to be a significant feature, the Area Under ROC (AUC) score shows that the fit is no better than chance hence it could be assumed that tenure cannot individually explain employee termination"
   ]
  },
  {
   "cell_type": "markdown",
   "metadata": {},
   "source": [
    "### Q2"
   ]
  },
  {
   "cell_type": "code",
   "execution_count": 191,
   "metadata": {},
   "outputs": [
    {
     "data": {
      "text/plain": [
       "voluntaryTermination\n",
       "0    83.074074\n",
       "1     8.666667\n",
       "dtype: float64"
      ]
     },
     "execution_count": 191,
     "metadata": {},
     "output_type": "execute_result"
    }
   ],
   "source": [
    "tab.groupby('voluntaryTermination').size()/tab.shape[1]"
   ]
  },
  {
   "cell_type": "code",
   "execution_count": 324,
   "metadata": {
    "collapsed": true
   },
   "outputs": [],
   "source": [
    "# Predicting Null Performance Ratings using Linear Discriminant Analyis for Multinomial Classification\n",
    "p_tr = tab[tab.performance == 0]\n",
    "p_te = tab[tab.performance > 0]\n",
    "clf = LinearDiscriminantAnalysis()\n",
    "clf.fit(p_te[p_te.columns.difference(['performance'])],p_te['performance'])\n",
    "tab.loc[tab.performance == 0,'performance'] = list(clf.predict(p_tr[p_tr.columns.difference(['performance'])]))"
   ]
  },
  {
   "cell_type": "code",
   "execution_count": 325,
   "metadata": {},
   "outputs": [
    {
     "data": {
      "text/plain": [
       "3.0    2264\n",
       "4.0    1223\n",
       "2.0     867\n",
       "1.0     325\n",
       "5.0     275\n",
       "Name: performance, dtype: int64"
      ]
     },
     "execution_count": 325,
     "metadata": {},
     "output_type": "execute_result"
    }
   ],
   "source": [
    "tab.performance.value_counts()"
   ]
  },
  {
   "cell_type": "markdown",
   "metadata": {},
   "source": [
    "#### ReSampling dataset due to imbalance in voluntary Termination classes"
   ]
  },
  {
   "cell_type": "code",
   "execution_count": 326,
   "metadata": {},
   "outputs": [
    {
     "name": "stdout",
     "output_type": "stream",
     "text": [
      "(5000, 54)\n"
     ]
    }
   ],
   "source": [
    "# ReSampling\n",
    "from sklearn.utils import resample\n",
    "sample = pd.DataFrame()\n",
    "\n",
    "t = resample(tab[tab['voluntaryTermination'] == 0],replace = False,n_samples =2500,random_state = 1234)\n",
    "sample = sample.append(t,ignore_index=True)\n",
    "t = resample(tab[tab['voluntaryTermination'] == 1],n_samples = 2500,random_state = 1234)\n",
    "sample = sample.append(t,ignore_index=True)\n",
    "print(sample.shape)\n"
   ]
  },
  {
   "cell_type": "markdown",
   "metadata": {},
   "source": [
    "#### Train Validation Split "
   ]
  },
  {
   "cell_type": "code",
   "execution_count": 327,
   "metadata": {
    "collapsed": true
   },
   "outputs": [],
   "source": [
    "X = sample[sample.columns.difference(['voluntaryTermination','salary','tenure'])]\n",
    "y = sample['voluntaryTermination']\n",
    "X_train,X_test,y_train,y_test = train_test_split(X,y,test_size = 0.3,random_state = 0)"
   ]
  },
  {
   "cell_type": "code",
   "execution_count": 328,
   "metadata": {},
   "outputs": [
    {
     "name": "stdout",
     "output_type": "stream",
     "text": [
      "Optimization terminated successfully.\n",
      "         Current function value: 0.262243\n",
      "         Iterations 11\n",
      "                            Logit Regression Results                            \n",
      "================================================================================\n",
      "Dep. Variable:     voluntaryTermination   No. Observations:                 3500\n",
      "Model:                            Logit   Df Residuals:                     3449\n",
      "Method:                             MLE   Df Model:                           50\n",
      "Date:                  Thu, 17 May 2018   Pseudo R-squ.:                  0.6216\n",
      "Time:                          13:24:43   Log-Likelihood:                -917.85\n",
      "converged:                         True   LL-Null:                       -2425.5\n",
      "                                          LLR p-value:                     0.000\n",
      "===================================================================================================================\n",
      "                                                      coef    std err          z      P>|z|      [0.025      0.975]\n",
      "-------------------------------------------------------------------------------------------------------------------\n",
      "age                                                 0.0087      0.006      1.447      0.148      -0.003       0.020\n",
      "bonusAmount                                        -0.0035      0.000    -13.955      0.000      -0.004      -0.003\n",
      "department_Finance                                  0.2072      0.262      0.790      0.430      -0.307       0.721\n",
      "department_Front End                               -0.0295      0.181     -0.163      0.871      -0.385       0.326\n",
      "department_HR                                      -0.4103      0.252     -1.629      0.103      -0.904       0.083\n",
      "department_IT                                      -0.0900      0.222     -0.406      0.685      -0.525       0.345\n",
      "department_Purchasing                              -0.6545      0.310     -2.112      0.035      -1.262      -0.047\n",
      "department_R&D                                     -0.2800      0.218     -1.285      0.199      -0.707       0.147\n",
      "gender_F                                            2.6633      0.499      5.342      0.000       1.686       3.640\n",
      "gender_M                                            1.5516      0.481      3.223      0.001       0.608       2.495\n",
      "jobType_Engineer 1                                 -0.5753      0.601     -0.958      0.338      -1.753       0.602\n",
      "jobType_Engineer 2                                 -1.5827      0.551     -2.872      0.004      -2.663      -0.503\n",
      "jobType_Engineer 3                                  0.3222      0.539      0.598      0.550      -0.734       1.379\n",
      "jobType_Engineer 4                                  3.3576      0.636      5.281      0.000       2.112       4.604\n",
      "jobType_Engineer 5                                  6.1279      0.963      6.365      0.000       4.241       8.015\n",
      "jobType_Manager 1                                  -0.8458      0.668     -1.266      0.206      -2.156       0.464\n",
      "jobType_Manager 2                                  -2.8980      0.918     -3.155      0.002      -4.698      -1.098\n",
      "jobType_Manager 3                                   4.5916      0.873      5.259      0.000       2.880       6.303\n",
      "jobType_Manager 4                                   6.8447      2.545      2.689      0.007       1.856      11.833\n",
      "jobType_Manager 5                                  15.7036      4.218      3.723      0.000       7.437      23.970\n",
      "jobType_Operator 1                                 -0.9529      0.703     -1.355      0.175      -2.331       0.426\n",
      "jobType_Operator 2                                 -1.8777      0.631     -2.976      0.003      -3.114      -0.641\n",
      "jobType_Operator 3                                 -1.5232      0.611     -2.492      0.013      -2.721      -0.325\n",
      "jobType_Operator 4                                 -0.1261      0.627     -0.201      0.840      -1.354       1.102\n",
      "jobType_Operator 5                                  1.5567      0.811      1.920      0.055      -0.032       3.145\n",
      "jobType_Professional 1                             -0.2477      0.640     -0.387      0.699      -1.502       1.007\n",
      "jobType_Professional 2                             -2.4160      0.587     -4.118      0.000      -3.566      -1.266\n",
      "jobType_Professional 3                             -0.8554      0.534     -1.603      0.109      -1.901       0.191\n",
      "jobType_Professional 4                              1.5347      0.578      2.655      0.008       0.402       2.668\n",
      "jobType_Professional 5                              4.1347      1.097      3.768      0.000       1.984       6.286\n",
      "jobType_Technician 1                               -1.1820      0.679     -1.742      0.082      -2.512       0.148\n",
      "jobType_Technician 2                               -2.9855      0.669     -4.462      0.000      -4.297      -1.674\n",
      "jobType_Technician 3                               -2.2820      0.589     -3.873      0.000      -3.437      -1.127\n",
      "jobType_Technician 4                               -1.1112      0.633     -1.755      0.079      -2.352       0.130\n",
      "location_Boise                                      3.0328      0.517      5.863      0.000       2.019       4.047\n",
      "location_Honolulu                                   3.1121      0.536      5.801      0.000       2.061       4.164\n",
      "location_Las Vegas                                  2.9142      0.529      5.508      0.000       1.877       3.951\n",
      "location_Paris                                      3.6005      0.863      4.174      0.000       1.910       5.291\n",
      "location_Rome                                       2.8531      0.538      5.302      0.000       1.798       3.908\n",
      "location_Singapore                                  3.1865      0.536      5.943      0.000       2.136       4.237\n",
      "performance                                        -1.0902      0.107    -10.171      0.000      -1.300      -0.880\n",
      "race_American Indian                               -0.4566      0.444     -1.028      0.304      -1.327       0.414\n",
      "race_Asian                                         -1.0984      0.284     -3.864      0.000      -1.656      -0.541\n",
      "race_Black or African American                     -0.3365      0.321     -1.047      0.295      -0.966       0.293\n",
      "race_Native Hawaiian  or Other Pacific Islander    -1.4811      0.673     -2.201      0.028      -2.800      -0.162\n",
      "race_White                                         -0.5298      0.260     -2.039      0.041      -1.039      -0.020\n",
      "salary_bkt_lte120K                                  0.3366      0.346      0.973      0.331      -0.342       1.015\n",
      "salary_bkt_lte65K                                   0.7496      0.426      1.760      0.078      -0.085       1.584\n",
      "tenure_bkt_lte10                                    0.8173      0.216      3.775      0.000       0.393       1.242\n",
      "tenure_bkt_lte20                                    0.3120      0.186      1.679      0.093      -0.052       0.676\n",
      "workerID                                         2.089e-07   4.08e-07      0.513      0.608    -5.9e-07    1.01e-06\n",
      "===================================================================================================================\n",
      "\n",
      "Possibly complete quasi-separation: A fraction 0.15 of observations can be\n",
      "perfectly predicted. This might indicate that there is complete\n",
      "quasi-separation. In this case some parameters will not be identified.\n"
     ]
    }
   ],
   "source": [
    "logit = sm.Logit(y_train,X_train)\n",
    "result = logit.fit()\n",
    "print(result.summary())"
   ]
  },
  {
   "cell_type": "code",
   "execution_count": 329,
   "metadata": {},
   "outputs": [],
   "source": [
    "model = linear_model.LogisticRegression(random_state = 0)\n",
    "model = model.fit(X_train,y_train)\n",
    "pred = model.predict(X_test)"
   ]
  },
  {
   "cell_type": "code",
   "execution_count": 330,
   "metadata": {},
   "outputs": [
    {
     "name": "stdout",
     "output_type": "stream",
     "text": [
      "Misclassification Error Rate: 0.128666666667\n"
     ]
    }
   ],
   "source": [
    "acc = metrics.accuracy_score(pred,y_test)\n",
    "print(\"Misclassification Error Rate: \"+ str(1-acc))"
   ]
  },
  {
   "cell_type": "code",
   "execution_count": 331,
   "metadata": {},
   "outputs": [
    {
     "data": {
      "text/plain": [
       "0.86987567189344417"
      ]
     },
     "execution_count": 331,
     "metadata": {},
     "output_type": "execute_result"
    }
   ],
   "source": [
    "# AUC Score\n",
    "pred_proba = model.predict_proba(X_train)\n",
    "metrics.roc_auc_score(y_test,pred)"
   ]
  },
  {
   "cell_type": "code",
   "execution_count": 332,
   "metadata": {},
   "outputs": [
    {
     "data": {
      "text/plain": [
       "array([[600, 121],\n",
       "       [ 72, 707]])"
      ]
     },
     "execution_count": 332,
     "metadata": {},
     "output_type": "execute_result"
    }
   ],
   "source": [
    "# Confusion Matrix\n",
    "metrics.confusion_matrix(y_test,pred)"
   ]
  },
  {
   "cell_type": "code",
   "execution_count": 333,
   "metadata": {},
   "outputs": [
    {
     "name": "stdout",
     "output_type": "stream",
     "text": [
      "Misclassification Error Rate: 0.116666666667\n",
      "AUC Score: 0.881687109082\n",
      "MisClassification Report: [[605 116]\n",
      " [ 59 720]]\n"
     ]
    }
   ],
   "source": [
    "# Removing Insignificant features\n",
    "model2 = linear_model.LogisticRegression(random_state = 0)\n",
    "# Filtering for features with pvalue < |0.05| \n",
    "train_red = list(result.pvalues[(result.pvalues <= 0.05) & (result.pvalues >= -0.05)].index)\n",
    "model2 = model2.fit(X_train[train_red],y_train)\n",
    "pred2 = model2.predict(X_test[train_red])\n",
    "acc2 = metrics.accuracy_score(pred2,y_test)\n",
    "print(\"Misclassification Error Rate: \"+ str(1-acc2))\n",
    "print(\"AUC Score: \"+ str(metrics.roc_auc_score(y_test,pred2)))\n",
    "print(\"MisClassification Report: \"+str(metrics.confusion_matrix(y_test,pred2)))"
   ]
  },
  {
   "cell_type": "code",
   "execution_count": 334,
   "metadata": {},
   "outputs": [
    {
     "name": "stdout",
     "output_type": "stream",
     "text": [
      "Misclassification Error Rate: 0.078\n",
      "AUC Score: 0.920669837036\n",
      "MisClassification Report: [[639  82]\n",
      " [ 35 744]]\n"
     ]
    }
   ],
   "source": [
    "# XgBoost Classifier\n",
    "model_xgb = xgb.XGBClassifier()\n",
    "model_xgb.fit(X_train[train_red], y_train)\n",
    "pred_xgb = model_xgb.predict(X_test[train_red])\n",
    "acc_xgb = metrics.accuracy_score(pred_xgb,y_test)\n",
    "print(\"Misclassification Error Rate: \"+ str(1-acc_xgb))\n",
    "print(\"AUC Score: \"+ str(metrics.roc_auc_score(y_test,pred_xgb)))\n",
    "print(\"MisClassification Report: \"+str(metrics.confusion_matrix(y_test,pred_xgb)))"
   ]
  },
  {
   "cell_type": "code",
   "execution_count": 335,
   "metadata": {},
   "outputs": [
    {
     "name": "stdout",
     "output_type": "stream",
     "text": [
      "Misclassification Error Rate: 0.0466666666667\n",
      "AUC Score: 0.952127536459\n",
      "MisClassification Report: [[664  57]\n",
      " [ 13 766]]\n"
     ]
    }
   ],
   "source": [
    "# Random Forest Classifier\n",
    "model_rf = RandomForestClassifier()\n",
    "model_rf.fit(X_train[train_red], y_train)\n",
    "pred_rf = model_rf.predict(X_test[train_red])\n",
    "acc_rf = metrics.accuracy_score(pred_rf,y_test)\n",
    "print(\"Misclassification Error Rate: \"+ str(1-acc_rf))\n",
    "print(\"AUC Score: \"+ str(metrics.roc_auc_score(y_test,pred_rf)))\n",
    "print(\"MisClassification Report: \"+str(metrics.confusion_matrix(y_test,pred_rf)))"
   ]
  }
 ],
 "metadata": {
  "kernelspec": {
   "display_name": "Python 3",
   "language": "python",
   "name": "python3"
  },
  "language_info": {
   "codemirror_mode": {
    "name": "ipython",
    "version": 3
   },
   "file_extension": ".py",
   "mimetype": "text/x-python",
   "name": "python",
   "nbconvert_exporter": "python",
   "pygments_lexer": "ipython3",
   "version": "3.6.1"
  }
 },
 "nbformat": 4,
 "nbformat_minor": 2
}
